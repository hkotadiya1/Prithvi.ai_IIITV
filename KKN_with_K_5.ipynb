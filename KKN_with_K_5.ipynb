{
  "nbformat": 4,
  "nbformat_minor": 0,
  "metadata": {
    "colab": {
      "name": "new.ipynb",
      "provenance": [],
      "collapsed_sections": []
    },
    "kernelspec": {
      "display_name": "Python 3",
      "name": "python3"
    }
  },
  "cells": [
    {
      "cell_type": "markdown",
      "metadata": {
        "id": "tTVU4AONS4Kt"
      },
      "source": [
        "# Problem Statement"
      ]
    },
    {
      "cell_type": "code",
      "metadata": {
        "id": "OYkRI8WRTL3_"
      },
      "source": [
        "import pandas as pd\n",
        "import numpy\n",
        "import os\n",
        "from datetime import datetime\n",
        "import matplotlib.pyplot as plt\n",
        "import seaborn as sns"
      ],
      "execution_count": 3,
      "outputs": []
    },
    {
      "cell_type": "code",
      "metadata": {
        "id": "gyaZ9_pTTZhB"
      },
      "source": [
        "def process(path_to_folder):\n",
        "    train = []\n",
        "    for root, dirs, files in os.walk(path_to_folder):\n",
        "        for file in files:\n",
        "            if file.endswith('.txt'):\n",
        "                with open(os.path.join(root, file), 'r') as f:\n",
        "                    text = f.read()\n",
        "                    temp = text.split(';\\n')\n",
        "                    final = []\n",
        "                    for i in range (len(temp)):\n",
        "                        a = temp[i].split(',')\n",
        "                        final.append(a)\n",
        "                \n",
        "                    train = train[:] + final\n",
        "                    \n",
        "    return train"
      ],
      "execution_count": 4,
      "outputs": []
    },
    {
      "cell_type": "code",
      "metadata": {
        "id": "I0dMhBe0Tt0z"
      },
      "source": [
        "trainphoneaccel = process('/content/drive/MyDrive/Raw/raw/train/phone/accel')\n",
        "trainphonegyro = process('/content/drive/MyDrive/Raw/raw/train/phone/gyro')\n",
        "trainwatchaccel = process('/content/drive/MyDrive/Raw/raw/train/watch/accel')\n",
        "trainwatchgyro = process('/content/drive/MyDrive/Raw/raw/train/watch/gyro')\n"
      ],
      "execution_count": 5,
      "outputs": []
    },
    {
      "cell_type": "code",
      "metadata": {
        "colab": {
          "base_uri": "https://localhost:8080/"
        },
        "id": "XL3wT_b3Twox",
        "outputId": "40908e4e-c2e8-404d-d1a8-07a84f8ed59f"
      },
      "source": [
        "trainwatchaccel[:5]"
      ],
      "execution_count": 6,
      "outputs": [
        {
          "output_type": "execute_result",
          "data": {
            "text/plain": [
              "[['1600', 'A', '90426708196641', '7.091625', '-0.5916671', '8.195502'],\n",
              " ['1600', 'A', '90426757696641', '4.972757', '-0.15831658', '6.6967316'],\n",
              " ['1600', 'A', '90426807196641', '3.25372', '-0.19183542', '6.107758'],\n",
              " ['1600', 'A', '90426856696641', '2.801216', '-0.15592238', '5.997625'],\n",
              " ['1600', 'A', '90426906196641', '3.7708676', '-1.0513538', '7.731027']]"
            ]
          },
          "metadata": {
            "tags": []
          },
          "execution_count": 6
        }
      ]
    },
    {
      "cell_type": "code",
      "metadata": {
        "colab": {
          "base_uri": "https://localhost:8080/"
        },
        "id": "o2ZvWPYNTzPu",
        "outputId": "6e1a17a9-c19b-4d32-89c3-d75c469fd941"
      },
      "source": [
        "train = trainphoneaccel + trainphonegyro + trainwatchaccel + trainwatchgyro\n",
        "len(train)"
      ],
      "execution_count": 7,
      "outputs": [
        {
          "output_type": "execute_result",
          "data": {
            "text/plain": [
              "5575090"
            ]
          },
          "metadata": {
            "tags": []
          },
          "execution_count": 7
        }
      ]
    },
    {
      "cell_type": "code",
      "metadata": {
        "id": "1fZkIBc1VXsr"
      },
      "source": [
        "def transform(data):\n",
        "    data = pd.DataFrame(data, columns = ['Subject-id', 'Activity Label', 'Timestamp', 'x', 'y', 'z'])\n",
        "    return data"
      ],
      "execution_count": 8,
      "outputs": []
    },
    {
      "cell_type": "code",
      "metadata": {
        "id": "UD8HSlm5NJLI"
      },
      "source": [
        "train = transform(train)"
      ],
      "execution_count": 9,
      "outputs": []
    },
    {
      "cell_type": "code",
      "metadata": {
        "colab": {
          "base_uri": "https://localhost:8080/",
          "height": 204
        },
        "id": "CWZOOmlWNMS0",
        "outputId": "2c75f7d4-4026-4ad2-b585-d235ae72c061"
      },
      "source": [
        "train.head()"
      ],
      "execution_count": 10,
      "outputs": [
        {
          "output_type": "execute_result",
          "data": {
            "text/html": [
              "<div>\n",
              "<style scoped>\n",
              "    .dataframe tbody tr th:only-of-type {\n",
              "        vertical-align: middle;\n",
              "    }\n",
              "\n",
              "    .dataframe tbody tr th {\n",
              "        vertical-align: top;\n",
              "    }\n",
              "\n",
              "    .dataframe thead th {\n",
              "        text-align: right;\n",
              "    }\n",
              "</style>\n",
              "<table border=\"1\" class=\"dataframe\">\n",
              "  <thead>\n",
              "    <tr style=\"text-align: right;\">\n",
              "      <th></th>\n",
              "      <th>Subject-id</th>\n",
              "      <th>Activity Label</th>\n",
              "      <th>Timestamp</th>\n",
              "      <th>x</th>\n",
              "      <th>y</th>\n",
              "      <th>z</th>\n",
              "    </tr>\n",
              "  </thead>\n",
              "  <tbody>\n",
              "    <tr>\n",
              "      <th>0</th>\n",
              "      <td>1600</td>\n",
              "      <td>A</td>\n",
              "      <td>252207666810782</td>\n",
              "      <td>-0.36476135</td>\n",
              "      <td>8.793503</td>\n",
              "      <td>1.0550842</td>\n",
              "    </tr>\n",
              "    <tr>\n",
              "      <th>1</th>\n",
              "      <td>1600</td>\n",
              "      <td>A</td>\n",
              "      <td>252207717164786</td>\n",
              "      <td>-0.8797302</td>\n",
              "      <td>9.768784</td>\n",
              "      <td>1.0169983</td>\n",
              "    </tr>\n",
              "    <tr>\n",
              "      <th>2</th>\n",
              "      <td>1600</td>\n",
              "      <td>A</td>\n",
              "      <td>252207767518790</td>\n",
              "      <td>2.0014954</td>\n",
              "      <td>11.10907</td>\n",
              "      <td>2.619156</td>\n",
              "    </tr>\n",
              "    <tr>\n",
              "      <th>3</th>\n",
              "      <td>1600</td>\n",
              "      <td>A</td>\n",
              "      <td>252207817872794</td>\n",
              "      <td>0.45062256</td>\n",
              "      <td>12.651642</td>\n",
              "      <td>0.18455505</td>\n",
              "    </tr>\n",
              "    <tr>\n",
              "      <th>4</th>\n",
              "      <td>1600</td>\n",
              "      <td>A</td>\n",
              "      <td>252207868226798</td>\n",
              "      <td>-2.1643524</td>\n",
              "      <td>13.928436</td>\n",
              "      <td>-4.4224854</td>\n",
              "    </tr>\n",
              "  </tbody>\n",
              "</table>\n",
              "</div>"
            ],
            "text/plain": [
              "  Subject-id Activity Label  ...          y           z\n",
              "0       1600              A  ...   8.793503   1.0550842\n",
              "1       1600              A  ...   9.768784   1.0169983\n",
              "2       1600              A  ...   11.10907    2.619156\n",
              "3       1600              A  ...  12.651642  0.18455505\n",
              "4       1600              A  ...  13.928436  -4.4224854\n",
              "\n",
              "[5 rows x 6 columns]"
            ]
          },
          "metadata": {
            "tags": []
          },
          "execution_count": 10
        }
      ]
    },
    {
      "cell_type": "code",
      "metadata": {
        "id": "cTUUWzCdNMpK"
      },
      "source": [
        "label = train['Activity Label'].unique()"
      ],
      "execution_count": 11,
      "outputs": []
    },
    {
      "cell_type": "code",
      "metadata": {
        "id": "xfqT-TcbNWfC"
      },
      "source": [
        "l={}\n",
        "n=0\n",
        "for i in label:\n",
        "    l[i] = n+1\n",
        "    n+=1\n",
        "\n",
        "train['Activity Label'] = train['Activity Label'].apply(lambda x: l[x])"
      ],
      "execution_count": 12,
      "outputs": []
    },
    {
      "cell_type": "code",
      "metadata": {
        "id": "xnc3WwyJNYy0"
      },
      "source": [
        "testphoneaccel = process('/content/drive/MyDrive/Raw/raw/test/phone/accel')\n",
        "testphonegyro = process('/content/drive/MyDrive/Raw/raw/test/phone/gyro')\n",
        "testwatchaccel = process('/content/drive/MyDrive/Raw/raw/test/watch/accel')\n",
        "testwatchgyro = process('/content/drive/MyDrive/Raw/raw/test/watch/gyro')"
      ],
      "execution_count": 13,
      "outputs": []
    },
    {
      "cell_type": "code",
      "metadata": {
        "colab": {
          "base_uri": "https://localhost:8080/"
        },
        "id": "g3YzrNTRNfzB",
        "outputId": "dcf389e0-d446-48f9-f3b5-a07ad7fb74c3"
      },
      "source": [
        "test = testphoneaccel + testphonegyro + testwatchaccel + testwatchgyro\n",
        "len(test)"
      ],
      "execution_count": 14,
      "outputs": [
        {
          "output_type": "execute_result",
          "data": {
            "text/plain": [
              "4266387"
            ]
          },
          "metadata": {
            "tags": []
          },
          "execution_count": 14
        }
      ]
    },
    {
      "cell_type": "code",
      "metadata": {
        "id": "BKMMKigSOIzR"
      },
      "source": [
        "test = transform(test)"
      ],
      "execution_count": 15,
      "outputs": []
    },
    {
      "cell_type": "code",
      "metadata": {
        "id": "tSCO2xm5OSLH"
      },
      "source": [
        "test = test.dropna(subset = ['Subject-id','Timestamp', 'Activity Label','x', 'y', 'z'])"
      ],
      "execution_count": 16,
      "outputs": []
    },
    {
      "cell_type": "code",
      "metadata": {
        "id": "_jUX1mzBOU0b"
      },
      "source": [
        "test['Timestamp'] = pd.to_numeric(test[\"Timestamp\"])"
      ],
      "execution_count": 17,
      "outputs": []
    },
    {
      "cell_type": "code",
      "metadata": {
        "id": "B1yCGR13PAC5"
      },
      "source": [
        "label = test['Activity Label'].unique()"
      ],
      "execution_count": 18,
      "outputs": []
    },
    {
      "cell_type": "code",
      "metadata": {
        "id": "uzWm2hsHOcLk"
      },
      "source": [
        "l={}\n",
        "n=0\n",
        "for i in label:\n",
        "    l[i] = n+1\n",
        "    n+=1\n",
        "\n",
        "test['Activity Label'] = test['Activity Label'].apply(lambda x: l[x])"
      ],
      "execution_count": 19,
      "outputs": []
    },
    {
      "cell_type": "code",
      "metadata": {
        "id": "PYh1zxKeOg9m"
      },
      "source": [
        "train['Timestamp'] = pd.to_numeric(train[\"Timestamp\"])\n",
        "train['Subject-id']=pd.to_numeric(train[\"Subject-id\"])\n",
        "train['x']=pd.to_numeric(train[\"x\"])\n",
        "train['y']=pd.to_numeric(train[\"y\"])\n",
        "train['z']=pd.to_numeric(train[\"z\"])\n",
        "train['Timestamp'] = train['Timestamp'].fillna(0)\n",
        "train['Subject-id'] = train['Subject-id'].fillna(0)\n",
        "train['x'] = train['x'].fillna(0)\n",
        "train['y'] = train['y'].fillna(0)\n",
        "train['z'] = train['z'].fillna(0)"
      ],
      "execution_count": 20,
      "outputs": []
    },
    {
      "cell_type": "code",
      "metadata": {
        "id": "-1GryYzKPS1w"
      },
      "source": [
        "train.drop(columns=\"Subject-id\",inplace=True)\n",
        "test.drop(columns=\"Subject-id\",inplace=True)"
      ],
      "execution_count": 21,
      "outputs": []
    },
    {
      "cell_type": "code",
      "metadata": {
        "id": "KMD9fFJjPXWh"
      },
      "source": [
        "train = train.sample(frac=1).reset_index(drop=True)\n",
        "test = test.sample(frac=1).reset_index(drop=True)\n",
        "data=pd.DataFrame()\n",
        "data=pd.concat([train,test])"
      ],
      "execution_count": 22,
      "outputs": []
    },
    {
      "cell_type": "code",
      "metadata": {
        "id": "rQVrp-vhPbf0"
      },
      "source": [
        "from sklearn.model_selection import train_test_split"
      ],
      "execution_count": 23,
      "outputs": []
    },
    {
      "cell_type": "code",
      "metadata": {
        "id": "DVIc7_VcPfVB"
      },
      "source": [
        "y=data[\"Activity Label\"]\n",
        "x=data.drop(columns=\"Activity Label\")\n",
        "x_train, x_test, y_train, y_test = train_test_split(x,y , train_size = 0.7, random_state =  51)"
      ],
      "execution_count": 24,
      "outputs": []
    },
    {
      "cell_type": "code",
      "metadata": {
        "id": "nghJfjwpPjiG"
      },
      "source": [
        "from sklearn.neighbors import KNeighborsClassifier"
      ],
      "execution_count": 25,
      "outputs": []
    },
    {
      "cell_type": "code",
      "metadata": {
        "colab": {
          "base_uri": "https://localhost:8080/"
        },
        "id": "z0fU2yT2Pq6S",
        "outputId": "ec753551-9687-4ef3-8171-852b17a7007d"
      },
      "source": [
        "classifier = KNeighborsClassifier(n_neighbors=5)\n",
        "classifier.fit(x_train,y_train)"
      ],
      "execution_count": 26,
      "outputs": [
        {
          "output_type": "execute_result",
          "data": {
            "text/plain": [
              "KNeighborsClassifier(algorithm='auto', leaf_size=30, metric='minkowski',\n",
              "                     metric_params=None, n_jobs=None, n_neighbors=5, p=2,\n",
              "                     weights='uniform')"
            ]
          },
          "metadata": {
            "tags": []
          },
          "execution_count": 26
        }
      ]
    },
    {
      "cell_type": "code",
      "metadata": {
        "id": "mYnmG_WTPtgI",
        "colab": {
          "base_uri": "https://localhost:8080/"
        },
        "outputId": "8811b95e-4d3e-468c-b540-33c42397ba42"
      },
      "source": [
        "classifier.score(x_test,y_test)"
      ],
      "execution_count": 27,
      "outputs": [
        {
          "output_type": "execute_result",
          "data": {
            "text/plain": [
              "0.7431154097967536"
            ]
          },
          "metadata": {
            "tags": []
          },
          "execution_count": 27
        }
      ]
    },
    {
      "cell_type": "code",
      "metadata": {
        "id": "9XZYhdW-B2HQ"
      },
      "source": [
        "import pickle\n",
        "filename = 'finalized_model.sav'\n",
        "pickle.dump(classifier, open(filename, 'wb'))\n"
      ],
      "execution_count": 30,
      "outputs": []
    },
    {
      "cell_type": "code",
      "metadata": {
        "id": "LEP2H-yADnQz"
      },
      "source": [
        "y= classifier.predict(x_test)"
      ],
      "execution_count": 32,
      "outputs": []
    },
    {
      "cell_type": "code",
      "metadata": {
        "id": "traxzATnElUC"
      },
      "source": [
        "df = pd.DataFrame(y)"
      ],
      "execution_count": 33,
      "outputs": []
    },
    {
      "cell_type": "code",
      "metadata": {
        "id": "FV5IKRCZFN4l"
      },
      "source": [
        "df.to_csv('answer.csv')"
      ],
      "execution_count": 34,
      "outputs": []
    },
    {
      "cell_type": "code",
      "metadata": {
        "id": "81DGrV4sFQvZ"
      },
      "source": [
        ""
      ],
      "execution_count": null,
      "outputs": []
    }
  ]
}